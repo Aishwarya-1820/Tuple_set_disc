{
 "cells": [
  {
   "cell_type": "markdown",
   "id": "40f1f294",
   "metadata": {},
   "source": []
  },
  {
   "cell_type": "markdown",
   "id": "d4b8b1f9",
   "metadata": {},
   "source": [
    "1) What are the characteristics of the tuples? Is tuple immutable?\n",
    "\n",
    "    Tuples are a datatype that belongs to the sequence data type category. They are similar to lists in pyhton, but they have the property of being immutable. We can not change the elements of a tuple, but we can execute a varity of a actions on them such as count, index, type, etc. \n",
    "    Yes, tuple is immutable."
   ]
  },
  {
   "cell_type": "markdown",
   "id": "a3da2472",
   "metadata": {},
   "source": [
    "2) What are the two tuple methods in python? Give an example of each method.\n",
    "   Give a reson why tuples have only two in-built methods as compared to lists.\n",
    "    \n",
    "    In Python only two tuple methods count() and index() that a tuple object can call.\n",
    "    "
   ]
  },
  {
   "cell_type": "code",
   "execution_count": 1,
   "id": "3b909142",
   "metadata": {},
   "outputs": [
    {
     "name": "stdout",
     "output_type": "stream",
     "text": [
      "4\n",
      "2\n"
     ]
    }
   ],
   "source": [
    "\n",
    "# count()\n",
    "tuple1 = (1, 2, 3, 4, 2, 3, 4, 2, 5, 2) \n",
    "Result1 = tuple1.count(2)\n",
    "print(Result1)\n",
    "\n",
    "# Index()\n",
    "tuple2 = (\"Mango\", \"Orange\", \"Cherry\", \"Apple\", \"Banana\")\n",
    "Result2 = tuple2.index(\"Cherry\")\n",
    "print(Result2)"
   ]
  },
  {
   "cell_type": "markdown",
   "id": "71a01a74",
   "metadata": {},
   "source": [
    "3) Which collection datatypes in python do not allow duplicate items? Write a code using a set to remove duplicates from the given lists.\n",
    "list = [1, 1, 1, 2, 1, 3, 1, 4, 2, 1, 2, 2, 2, 3, 2, 4, 3, 1, 3, 2, 3, 3, 3, 4, 4, 1, 4, 2, 4, 3, 4, 4]\n",
    "    A set is a collection that cannot contain duplicate items."
   ]
  },
  {
   "cell_type": "code",
   "execution_count": 30,
   "id": "dabc98cf",
   "metadata": {},
   "outputs": [
    {
     "name": "stdout",
     "output_type": "stream",
     "text": [
      "Original list:  [1, 1, 1, 2, 1, 3, 1, 4, 2, 1, 2, 2, 2, 3, 2, 4, 3, 1, 3, 2, 3, 3, 3, 4, 4, 1, 4, 2, 4, 3, 4, 4]\n",
      "List after removing duplicate items:  [1, 2, 3, 4]\n"
     ]
    }
   ],
   "source": [
    "\n",
    "list = [1, 1, 1, 2, 1, 3, 1, 4, 2, 1, 2, 2, 2, 3, 2, 4, 3, 1, 3, 2, 3, 3, 3, 4, 4, 1, 4, 2, 4, 3, 4, 4]\n",
    "print(\"Original list: \", list)\n",
    "Result = [*set(list)]\n",
    "print(\"List after removing duplicate items: \", Result)"
   ]
  },
  {
   "cell_type": "markdown",
   "id": "6ce0baa1",
   "metadata": {},
   "source": [
    "4) Explained the difference between union() and upadate() methods for a set. Give an example of each method.\n",
    "    The union method is used to return the union of a set and set of elements from one or more iterable like string, list, set. This method takes arbitrary number of iterable objects as argument, which means one or more iterable can be passed. If iterable other than  set is passed, if first conveerts the iterable object to set object and then perform the union operation. It returns the newly created set, which contains all the elements present in all the iterables.\n",
    "    The update method is used to return the union of a set of a elements for one or more iterable like string, list, set. It is very similar to union() method, with difference is that where union() methos is create and return a new set, containing all the elements present in all the iterables, update() method updates the set on which this method is called with all the distinct elements present in all the iterables."
   ]
  },
  {
   "cell_type": "code",
   "execution_count": 6,
   "id": "44cd172f",
   "metadata": {},
   "outputs": [
    {
     "name": "stdout",
     "output_type": "stream",
     "text": [
      "A: {1, 3, 5, 7, 9}\n",
      "B: {2, 4, 6, 8, 10}\n",
      "C: {1, 2, 3, 4, 5, 6, 7, 8, 9, 10}\n"
     ]
    }
   ],
   "source": [
    "A = {1, 3, 5, 7, 9}\n",
    "print('A:', A)\n",
    "B = {2, 4, 6, 8, 10}\n",
    "print('B:', B)\n",
    "C = a.union(B)\n",
    "print('C:',C )"
   ]
  },
  {
   "cell_type": "code",
   "execution_count": 13,
   "id": "78cc58cf",
   "metadata": {},
   "outputs": [
    {
     "name": "stdout",
     "output_type": "stream",
     "text": [
      "A: {1, 3, 5, 7, 9}\n",
      "B: {2, 4, 6, 8, 10}\n",
      "A union B:  {1, 2, 3, 4, 5, 6, 7, 8, 9, 10}\n"
     ]
    }
   ],
   "source": [
    "A = {1, 3, 5, 7, 9}\n",
    "print('A:', A)\n",
    "B = {2, 4, 6, 8, 10}\n",
    "print('B:', B)\n",
    "A.update(B)\n",
    "print('A union B: ', A)"
   ]
  },
  {
   "cell_type": "markdown",
   "id": "10ce9e3e",
   "metadata": {},
   "source": [
    "5) What is a dictionary? Give an example. Also, state weather a dictionary is ordered or unordered.\n",
    "    Dictionaries are Pythons Implementation of a data structure that is more generally known as an associative array. A dictionary consists of a collectin of key-value pairs. Each key-value pair maps the key to its associated value. The dictionary is an unordered collection that contains key-value pairs separated by commas inside curly brackets. Dictionaries are optimized to retrive values when the key is known. "
   ]
  },
  {
   "cell_type": "code",
   "execution_count": 2,
   "id": "09bdadd2",
   "metadata": {},
   "outputs": [
    {
     "name": "stdout",
     "output_type": "stream",
     "text": [
      "{1: 'One', 2: 'Two', 3: 'Three', 4: 'Four', 5: 'Five'}\n"
     ]
    }
   ],
   "source": [
    "NumNames = {1:\"One\", 2:\"Two\", 3:\"Three\", 4:\"Four\", 5:\"Five\"}\n",
    "print(NumNames)"
   ]
  },
  {
   "cell_type": "markdown",
   "id": "5ba745e3",
   "metadata": {},
   "source": [
    "6) Can we create a nested dictionary? If so, please give an example by creating a simple one-level nested dictionary.\n",
    "    A nested dictionary can be created in Python by placing the comma-separated dictionaries enclosed within braces."
   ]
  },
  {
   "cell_type": "code",
   "execution_count": 6,
   "id": "96408573",
   "metadata": {},
   "outputs": [
    {
     "name": "stdout",
     "output_type": "stream",
     "text": [
      "{'DictA': {'Name': 'Puja', 'age': 22, 'sex': 'Female'}, 'DictB': {'Name': 'Tushar', 'age': 25, 'sex': 'Male'}}\n"
     ]
    }
   ],
   "source": [
    "Nested_Dict = {\"DictA\": {\"Name\": \"Puja\", \"age\": 22, \"sex\": \"Female\"}, \"DictB\": {\"Name\": \"Tushar\", \"age\":25, \"sex\": \"Male\"}}\n",
    "print(Nested_Dict)"
   ]
  },
  {
   "cell_type": "markdown",
   "id": "4d6d84cc",
   "metadata": {},
   "source": [
    "7) Using setdfalut method, create key named topics in the given dictionary and also add the value of the key as the list ['Pyhton', 'Machine Learning', 'Deep Learning'] \n",
    "\n",
    "dict1={'language': 'pyhton', 'cource': 'Data Science Masters'}"
   ]
  },
  {
   "cell_type": "code",
   "execution_count": 27,
   "id": "00ea4b92",
   "metadata": {},
   "outputs": [
    {
     "name": "stdout",
     "output_type": "stream",
     "text": [
      "dict1:  {'language': 'pyhton', 'cource': 'Data Science Masters'}\n",
      "cource=  Data Science Masters\n",
      "{'language': 'pyhton', 'cource': ['Pyhton', 'Machine Learning', 'Deep Learning']}\n"
     ]
    }
   ],
   "source": [
    "dict1={'language': 'pyhton', 'cource': 'Data Science Masters'}\n",
    "\n",
    "list=['Pyhton', 'Machine Learning', 'Deep Learning'] \n",
    "\n",
    "print('dict1: ', dict1)\n",
    "\n",
    "cource = dict1.setdefault('cource')\n",
    "\n",
    "print('cource= ', cource)\n",
    "\n",
    "dict1 = {'language': 'pyhton', 'cource':['Pyhton', 'Machine Learning', 'Deep Learning']}\n",
    "print(dict1)"
   ]
  },
  {
   "cell_type": "markdown",
   "id": "4cda7f89",
   "metadata": {},
   "source": [
    "8) What are the three view objects in dictionaries? Use the three in-built methods in python to display these three view objects for the given dictionary.   \n",
    "\n",
    "dict1 = {\"Sport\": \"Cricket\",\"Teams\":['India', 'Australia', 'England', 'South Africa', 'Srilanka' 'Newzealand'] }\n",
    "    \n",
    "    The main view objects of dictionary in python are keys, values and items. "
   ]
  },
  {
   "cell_type": "code",
   "execution_count": 12,
   "id": "ac3593d9",
   "metadata": {},
   "outputs": [
    {
     "name": "stdout",
     "output_type": "stream",
     "text": [
      "dict_keys(['Sport', 'Teams'])\n",
      "dict_items([('Sport', 'Cricket'), ('Teams', ['India', 'Australia', 'England', 'South Africa', 'SrilankaNewzealand'])])\n",
      "dict_values(['Cricket', ['India', 'Australia', 'England', 'South Africa', 'SrilankaNewzealand']])\n"
     ]
    }
   ],
   "source": [
    "\n",
    "dict1 = {\"Sport\": \"Cricket\",\"Teams\":['India', 'Australia', 'England', 'South Africa', 'Srilanka' 'Newzealand'] }\n",
    "\n",
    "K = dict1.keys()\n",
    "print(K)\n",
    "\n",
    "I = dict1.items()\n",
    "print(I)\n",
    "\n",
    "V = dict1.values()\n",
    "print(V)"
   ]
  },
  {
   "cell_type": "code",
   "execution_count": null,
   "id": "53e162f6",
   "metadata": {},
   "outputs": [],
   "source": []
  },
  {
   "cell_type": "code",
   "execution_count": null,
   "id": "b4a3a34e",
   "metadata": {},
   "outputs": [],
   "source": []
  }
 ],
 "metadata": {
  "kernelspec": {
   "display_name": "Python 3 (ipykernel)",
   "language": "python",
   "name": "python3"
  },
  "language_info": {
   "codemirror_mode": {
    "name": "ipython",
    "version": 3
   },
   "file_extension": ".py",
   "mimetype": "text/x-python",
   "name": "python",
   "nbconvert_exporter": "python",
   "pygments_lexer": "ipython3",
   "version": "3.9.13"
  }
 },
 "nbformat": 4,
 "nbformat_minor": 5
}
